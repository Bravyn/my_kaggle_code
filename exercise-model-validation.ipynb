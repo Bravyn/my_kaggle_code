{
 "cells": [
  {
   "cell_type": "markdown",
   "id": "7b81b04c",
   "metadata": {
    "papermill": {
     "duration": 0.00699,
     "end_time": "2023-06-05T13:01:18.856507",
     "exception": false,
     "start_time": "2023-06-05T13:01:18.849517",
     "status": "completed"
    },
    "tags": []
   },
   "source": [
    "**This notebook is an exercise in the [Introduction to Machine Learning](https://www.kaggle.com/learn/intro-to-machine-learning) course.  You can reference the tutorial at [this link](https://www.kaggle.com/dansbecker/model-validation).**\n",
    "\n",
    "---\n"
   ]
  },
  {
   "cell_type": "markdown",
   "id": "6bd0c238",
   "metadata": {
    "papermill": {
     "duration": 0.006334,
     "end_time": "2023-06-05T13:01:18.869086",
     "exception": false,
     "start_time": "2023-06-05T13:01:18.862752",
     "status": "completed"
    },
    "tags": []
   },
   "source": [
    "## Recap\n",
    "You've built a model. In this exercise you will test how good your model is.\n",
    "\n",
    "Run the cell below to set up your coding environment where the previous exercise left off."
   ]
  },
  {
   "cell_type": "code",
   "execution_count": 1,
   "id": "c05371f5",
   "metadata": {
    "execution": {
     "iopub.execute_input": "2023-06-05T13:01:18.883819Z",
     "iopub.status.busy": "2023-06-05T13:01:18.883387Z",
     "iopub.status.idle": "2023-06-05T13:01:21.266152Z",
     "shell.execute_reply": "2023-06-05T13:01:21.264571Z"
    },
    "papermill": {
     "duration": 2.393946,
     "end_time": "2023-06-05T13:01:21.269181",
     "exception": false,
     "start_time": "2023-06-05T13:01:18.875235",
     "status": "completed"
    },
    "tags": []
   },
   "outputs": [
    {
     "name": "stdout",
     "output_type": "stream",
     "text": [
      "First in-sample predictions: [208500. 181500. 223500. 140000. 250000.]\n",
      "Actual target values for those homes: [208500, 181500, 223500, 140000, 250000]\n",
      "Setup Complete\n"
     ]
    }
   ],
   "source": [
    "# Code you have previously used to load data\n",
    "import pandas as pd\n",
    "from sklearn.tree import DecisionTreeRegressor\n",
    "\n",
    "# Path of the file to read\n",
    "iowa_file_path = '../input/home-data-for-ml-course/train.csv'\n",
    "\n",
    "home_data = pd.read_csv(iowa_file_path)\n",
    "y = home_data.SalePrice\n",
    "feature_columns = ['LotArea', 'YearBuilt', '1stFlrSF', '2ndFlrSF', 'FullBath', 'BedroomAbvGr', 'TotRmsAbvGrd']\n",
    "X = home_data[feature_columns]\n",
    "\n",
    "# Specify Model\n",
    "iowa_model = DecisionTreeRegressor()\n",
    "# Fit Model\n",
    "iowa_model.fit(X, y)\n",
    "\n",
    "print(\"First in-sample predictions:\", iowa_model.predict(X.head()))\n",
    "print(\"Actual target values for those homes:\", y.head().tolist())\n",
    "\n",
    "# Set up code checking\n",
    "from learntools.core import binder\n",
    "binder.bind(globals())\n",
    "from learntools.machine_learning.ex4 import *\n",
    "print(\"Setup Complete\")"
   ]
  },
  {
   "cell_type": "markdown",
   "id": "f5ba16c8",
   "metadata": {
    "papermill": {
     "duration": 0.005989,
     "end_time": "2023-06-05T13:01:21.281926",
     "exception": false,
     "start_time": "2023-06-05T13:01:21.275937",
     "status": "completed"
    },
    "tags": []
   },
   "source": [
    "# Exercises\n",
    "\n",
    "## Step 1: Split Your Data\n",
    "Use the `train_test_split` function to split up your data.\n",
    "\n",
    "Give it the argument `random_state=1` so the `check` functions know what to expect when verifying your code.\n",
    "\n",
    "Recall, your features are loaded in the DataFrame **X** and your target is loaded in **y**.\n"
   ]
  },
  {
   "cell_type": "code",
   "execution_count": 2,
   "id": "a32a0dc5",
   "metadata": {
    "execution": {
     "iopub.execute_input": "2023-06-05T13:01:21.296781Z",
     "iopub.status.busy": "2023-06-05T13:01:21.296155Z",
     "iopub.status.idle": "2023-06-05T13:01:21.310568Z",
     "shell.execute_reply": "2023-06-05T13:01:21.309682Z"
    },
    "papermill": {
     "duration": 0.025534,
     "end_time": "2023-06-05T13:01:21.313934",
     "exception": false,
     "start_time": "2023-06-05T13:01:21.288400",
     "status": "completed"
    },
    "tags": []
   },
   "outputs": [
    {
     "data": {
      "application/javascript": [
       "parent.postMessage({\"jupyterEvent\": \"custom.exercise_interaction\", \"data\": {\"outcomeType\": 1, \"valueTowardsCompletion\": 0.25, \"interactionType\": 1, \"questionType\": 2, \"questionId\": \"1_SplitData\", \"learnToolsVersion\": \"0.3.4\", \"failureMessage\": \"\", \"exceptionClass\": \"\", \"trace\": \"\"}}, \"*\")"
      ],
      "text/plain": [
       "<IPython.core.display.Javascript object>"
      ]
     },
     "metadata": {},
     "output_type": "display_data"
    },
    {
     "data": {
      "text/markdown": [
       "<span style=\"color:#33cc33\">Correct</span>"
      ],
      "text/plain": [
       "Correct"
      ]
     },
     "metadata": {},
     "output_type": "display_data"
    }
   ],
   "source": [
    "# Import the train_test_split function \n",
    "from sklearn.model_selection import train_test_split\n",
    "\n",
    "# split data into training and testing sets\n",
    "train_X, val_X, train_y, val_y = train_test_split(X, y, random_state = 1)\n",
    "\n",
    "# Check your answer\n",
    "step_1.check()"
   ]
  },
  {
   "cell_type": "code",
   "execution_count": 3,
   "id": "7be5402d",
   "metadata": {
    "execution": {
     "iopub.execute_input": "2023-06-05T13:01:21.329667Z",
     "iopub.status.busy": "2023-06-05T13:01:21.328637Z",
     "iopub.status.idle": "2023-06-05T13:01:21.334543Z",
     "shell.execute_reply": "2023-06-05T13:01:21.333271Z"
    },
    "papermill": {
     "duration": 0.016676,
     "end_time": "2023-06-05T13:01:21.337010",
     "exception": false,
     "start_time": "2023-06-05T13:01:21.320334",
     "status": "completed"
    },
    "tags": []
   },
   "outputs": [],
   "source": [
    "# The lines below will show you a hint or the solution.\n",
    "# step_1.hint() \n",
    "# step_1.solution()\n"
   ]
  },
  {
   "cell_type": "markdown",
   "id": "fce5100e",
   "metadata": {
    "papermill": {
     "duration": 0.007096,
     "end_time": "2023-06-05T13:01:21.352795",
     "exception": false,
     "start_time": "2023-06-05T13:01:21.345699",
     "status": "completed"
    },
    "tags": []
   },
   "source": [
    "## Step 2: Specify and Fit the Model\n",
    "\n",
    "Create a `DecisionTreeRegressor` model and fit it to the relevant data.\n",
    "Set `random_state` to 1 again when creating the model."
   ]
  },
  {
   "cell_type": "code",
   "execution_count": 4,
   "id": "453cae71",
   "metadata": {
    "execution": {
     "iopub.execute_input": "2023-06-05T13:01:21.369145Z",
     "iopub.status.busy": "2023-06-05T13:01:21.367681Z",
     "iopub.status.idle": "2023-06-05T13:01:21.401912Z",
     "shell.execute_reply": "2023-06-05T13:01:21.400406Z"
    },
    "papermill": {
     "duration": 0.045652,
     "end_time": "2023-06-05T13:01:21.405146",
     "exception": false,
     "start_time": "2023-06-05T13:01:21.359494",
     "status": "completed"
    },
    "tags": []
   },
   "outputs": [
    {
     "name": "stdout",
     "output_type": "stream",
     "text": [
      "[186500. 184000. 130000.  92000. 164500. 220000. 335000. 144152. 215000.\n",
      " 262000.]\n",
      "[186500. 184000. 130000.  92000. 164500. 220000. 335000. 144152. 215000.\n",
      " 262000.]\n"
     ]
    },
    {
     "data": {
      "application/javascript": [
       "parent.postMessage({\"jupyterEvent\": \"custom.exercise_interaction\", \"data\": {\"outcomeType\": 1, \"valueTowardsCompletion\": 0.25, \"interactionType\": 1, \"questionType\": 2, \"questionId\": \"2_FitModelWithTrain\", \"learnToolsVersion\": \"0.3.4\", \"failureMessage\": \"\", \"exceptionClass\": \"\", \"trace\": \"\"}}, \"*\")"
      ],
      "text/plain": [
       "<IPython.core.display.Javascript object>"
      ]
     },
     "metadata": {},
     "output_type": "display_data"
    },
    {
     "data": {
      "text/markdown": [
       "<span style=\"color:#33cc33\">Correct</span>"
      ],
      "text/plain": [
       "Correct"
      ]
     },
     "metadata": {},
     "output_type": "display_data"
    }
   ],
   "source": [
    "# You imported DecisionTreeRegressor in your last exercise\n",
    "# and that code has been copied to the setup code above. So, no need to\n",
    "# import it again\n",
    "\n",
    "# Specify the model\n",
    "iowa_model = DecisionTreeRegressor(random_state = 1)\n",
    "\n",
    "# Fit iowa_model with the training data.\n",
    "iowa_model.fit(train_X, train_y)\n",
    "\n",
    "# Check your answer\n",
    "step_2.check()"
   ]
  },
  {
   "cell_type": "code",
   "execution_count": 5,
   "id": "97f11d5a",
   "metadata": {
    "execution": {
     "iopub.execute_input": "2023-06-05T13:01:21.421280Z",
     "iopub.status.busy": "2023-06-05T13:01:21.420860Z",
     "iopub.status.idle": "2023-06-05T13:01:21.425979Z",
     "shell.execute_reply": "2023-06-05T13:01:21.424774Z"
    },
    "papermill": {
     "duration": 0.016441,
     "end_time": "2023-06-05T13:01:21.428891",
     "exception": false,
     "start_time": "2023-06-05T13:01:21.412450",
     "status": "completed"
    },
    "tags": []
   },
   "outputs": [],
   "source": [
    "# step_2.hint()\n",
    "# step_2.solution()"
   ]
  },
  {
   "cell_type": "markdown",
   "id": "67f4af8f",
   "metadata": {
    "papermill": {
     "duration": 0.006653,
     "end_time": "2023-06-05T13:01:21.442846",
     "exception": false,
     "start_time": "2023-06-05T13:01:21.436193",
     "status": "completed"
    },
    "tags": []
   },
   "source": [
    "## Step 3: Make Predictions with Validation data\n"
   ]
  },
  {
   "cell_type": "code",
   "execution_count": 6,
   "id": "68354c16",
   "metadata": {
    "execution": {
     "iopub.execute_input": "2023-06-05T13:01:21.459658Z",
     "iopub.status.busy": "2023-06-05T13:01:21.459153Z",
     "iopub.status.idle": "2023-06-05T13:01:21.474375Z",
     "shell.execute_reply": "2023-06-05T13:01:21.473076Z"
    },
    "papermill": {
     "duration": 0.026854,
     "end_time": "2023-06-05T13:01:21.477329",
     "exception": false,
     "start_time": "2023-06-05T13:01:21.450475",
     "status": "completed"
    },
    "tags": []
   },
   "outputs": [
    {
     "data": {
      "application/javascript": [
       "parent.postMessage({\"jupyterEvent\": \"custom.exercise_interaction\", \"data\": {\"outcomeType\": 1, \"valueTowardsCompletion\": 0.25, \"interactionType\": 1, \"questionType\": 2, \"questionId\": \"3_ValPreds\", \"learnToolsVersion\": \"0.3.4\", \"failureMessage\": \"\", \"exceptionClass\": \"\", \"trace\": \"\"}}, \"*\")"
      ],
      "text/plain": [
       "<IPython.core.display.Javascript object>"
      ]
     },
     "metadata": {},
     "output_type": "display_data"
    },
    {
     "data": {
      "text/markdown": [
       "<span style=\"color:#33cc33\">Correct</span>"
      ],
      "text/plain": [
       "Correct"
      ]
     },
     "metadata": {},
     "output_type": "display_data"
    }
   ],
   "source": [
    "# Predict with all validation observations\n",
    "val_predictions = iowa_model.predict(val_X)\n",
    "\n",
    "# Check your answer\n",
    "step_3.check()"
   ]
  },
  {
   "cell_type": "code",
   "execution_count": 7,
   "id": "2e62ae14",
   "metadata": {
    "execution": {
     "iopub.execute_input": "2023-06-05T13:01:21.494600Z",
     "iopub.status.busy": "2023-06-05T13:01:21.494108Z",
     "iopub.status.idle": "2023-06-05T13:01:21.499611Z",
     "shell.execute_reply": "2023-06-05T13:01:21.498108Z"
    },
    "papermill": {
     "duration": 0.017297,
     "end_time": "2023-06-05T13:01:21.502091",
     "exception": false,
     "start_time": "2023-06-05T13:01:21.484794",
     "status": "completed"
    },
    "tags": []
   },
   "outputs": [],
   "source": [
    "# step_3.hint()\n",
    "# step_3.solution()"
   ]
  },
  {
   "cell_type": "markdown",
   "id": "0aadc4b6",
   "metadata": {
    "papermill": {
     "duration": 0.007271,
     "end_time": "2023-06-05T13:01:21.517380",
     "exception": false,
     "start_time": "2023-06-05T13:01:21.510109",
     "status": "completed"
    },
    "tags": []
   },
   "source": [
    "Inspect your predictions and actual values from validation data."
   ]
  },
  {
   "cell_type": "code",
   "execution_count": 8,
   "id": "7983f0af",
   "metadata": {
    "execution": {
     "iopub.execute_input": "2023-06-05T13:01:21.534494Z",
     "iopub.status.busy": "2023-06-05T13:01:21.533978Z",
     "iopub.status.idle": "2023-06-05T13:01:21.542277Z",
     "shell.execute_reply": "2023-06-05T13:01:21.540295Z"
    },
    "papermill": {
     "duration": 0.022969,
     "end_time": "2023-06-05T13:01:21.547742",
     "exception": false,
     "start_time": "2023-06-05T13:01:21.524773",
     "status": "completed"
    },
    "tags": []
   },
   "outputs": [
    {
     "name": "stdout",
     "output_type": "stream",
     "text": [
      "Actual: 208500 predicted: 186500.0 error: 22000.0\n",
      "Actual: 181500 predicted: 184000.0 error: -2500.0\n",
      "Actual: 223500 predicted: 130000.0 error: 93500.0\n",
      "Actual: 140000 predicted: 92000.0 error: 48000.0\n",
      "Actual: 250000 predicted: 164500.0 error: 85500.0\n"
     ]
    }
   ],
   "source": [
    "# print the top few validation predictions\n",
    "#print(val_predictions[:10])\n",
    "# print the top few actual prices from validation data\n",
    "#print(y.head())\n",
    "for i in range(0,5):\n",
    "    print(f\"Actual: {y[i]} predicted: {val_predictions[i]} error: { y[i] - val_predictions[i] }\")\n",
    " "
   ]
  },
  {
   "cell_type": "markdown",
   "id": "73856aef",
   "metadata": {
    "papermill": {
     "duration": 0.008003,
     "end_time": "2023-06-05T13:01:21.563944",
     "exception": false,
     "start_time": "2023-06-05T13:01:21.555941",
     "status": "completed"
    },
    "tags": []
   },
   "source": [
    "What do you notice that is different from what you saw with in-sample predictions (which are printed after the top code cell in this page).\n",
    "\n",
    "Do you remember why validation predictions differ from in-sample (or training) predictions? This is an important idea from the last lesson.\n",
    "\n",
    "## Step 4: Calculate the Mean Absolute Error in Validation Data\n"
   ]
  },
  {
   "cell_type": "code",
   "execution_count": 9,
   "id": "1a6e4352",
   "metadata": {
    "execution": {
     "iopub.execute_input": "2023-06-05T13:01:21.581348Z",
     "iopub.status.busy": "2023-06-05T13:01:21.580905Z",
     "iopub.status.idle": "2023-06-05T13:01:21.592872Z",
     "shell.execute_reply": "2023-06-05T13:01:21.591678Z"
    },
    "papermill": {
     "duration": 0.023802,
     "end_time": "2023-06-05T13:01:21.595349",
     "exception": false,
     "start_time": "2023-06-05T13:01:21.571547",
     "status": "completed"
    },
    "tags": []
   },
   "outputs": [
    {
     "name": "stdout",
     "output_type": "stream",
     "text": [
      "29652.931506849316\n"
     ]
    },
    {
     "data": {
      "application/javascript": [
       "parent.postMessage({\"jupyterEvent\": \"custom.exercise_interaction\", \"data\": {\"outcomeType\": 1, \"valueTowardsCompletion\": 0.25, \"interactionType\": 1, \"questionType\": 1, \"questionId\": \"4_MAE\", \"learnToolsVersion\": \"0.3.4\", \"failureMessage\": \"\", \"exceptionClass\": \"\", \"trace\": \"\"}}, \"*\")"
      ],
      "text/plain": [
       "<IPython.core.display.Javascript object>"
      ]
     },
     "metadata": {},
     "output_type": "display_data"
    },
    {
     "data": {
      "text/markdown": [
       "<span style=\"color:#33cc33\">Correct</span>"
      ],
      "text/plain": [
       "Correct"
      ]
     },
     "metadata": {},
     "output_type": "display_data"
    }
   ],
   "source": [
    "from sklearn.metrics import mean_absolute_error\n",
    "val_mae = mean_absolute_error(val_y, val_predictions)\n",
    "\n",
    "# uncomment following line to see the validation_mae\n",
    "print(val_mae)\n",
    "\n",
    "# Check your answer\n",
    "step_4.check()"
   ]
  },
  {
   "cell_type": "code",
   "execution_count": 10,
   "id": "bfb99a09",
   "metadata": {
    "execution": {
     "iopub.execute_input": "2023-06-05T13:01:21.613595Z",
     "iopub.status.busy": "2023-06-05T13:01:21.613105Z",
     "iopub.status.idle": "2023-06-05T13:01:21.618502Z",
     "shell.execute_reply": "2023-06-05T13:01:21.617053Z"
    },
    "papermill": {
     "duration": 0.018054,
     "end_time": "2023-06-05T13:01:21.621458",
     "exception": false,
     "start_time": "2023-06-05T13:01:21.603404",
     "status": "completed"
    },
    "tags": []
   },
   "outputs": [],
   "source": [
    "# step_4.hint()\n",
    "# step_4.solution()"
   ]
  },
  {
   "cell_type": "markdown",
   "id": "3d0419bc",
   "metadata": {
    "papermill": {
     "duration": 0.008617,
     "end_time": "2023-06-05T13:01:21.639571",
     "exception": false,
     "start_time": "2023-06-05T13:01:21.630954",
     "status": "completed"
    },
    "tags": []
   },
   "source": [
    "Is that MAE good?  There isn't a general rule for what values are good that applies across applications. But you'll see how to use (and improve) this number in the next step.\n",
    "\n",
    "# Keep Going\n",
    "\n",
    "You are ready for **[Underfitting and Overfitting](https://www.kaggle.com/dansbecker/underfitting-and-overfitting).**\n"
   ]
  },
  {
   "cell_type": "markdown",
   "id": "37cb36f2",
   "metadata": {
    "papermill": {
     "duration": 0.008127,
     "end_time": "2023-06-05T13:01:21.656290",
     "exception": false,
     "start_time": "2023-06-05T13:01:21.648163",
     "status": "completed"
    },
    "tags": []
   },
   "source": [
    "---\n",
    "\n",
    "\n",
    "\n",
    "\n",
    "*Have questions or comments? Visit the [course discussion forum](https://www.kaggle.com/learn/intro-to-machine-learning/discussion) to chat with other learners.*"
   ]
  }
 ],
 "metadata": {
  "kernelspec": {
   "display_name": "Python 3",
   "language": "python",
   "name": "python3"
  },
  "language_info": {
   "codemirror_mode": {
    "name": "ipython",
    "version": 3
   },
   "file_extension": ".py",
   "mimetype": "text/x-python",
   "name": "python",
   "nbconvert_exporter": "python",
   "pygments_lexer": "ipython3",
   "version": "3.10.10"
  },
  "papermill": {
   "default_parameters": {},
   "duration": 19.277436,
   "end_time": "2023-06-05T13:01:22.789840",
   "environment_variables": {},
   "exception": null,
   "input_path": "__notebook__.ipynb",
   "output_path": "__notebook__.ipynb",
   "parameters": {},
   "start_time": "2023-06-05T13:01:03.512404",
   "version": "2.4.0"
  }
 },
 "nbformat": 4,
 "nbformat_minor": 5
}
